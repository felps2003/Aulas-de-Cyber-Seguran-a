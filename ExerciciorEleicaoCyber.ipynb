{
  "nbformat": 4,
  "nbformat_minor": 0,
  "metadata": {
    "colab": {
      "name": "ExerciciorEleicaoCyber.ipynb",
      "provenance": [],
      "authorship_tag": "ABX9TyP6Dk0oiLom0mjc7eDGVb+f",
      "include_colab_link": true
    },
    "kernelspec": {
      "name": "python3",
      "display_name": "Python 3"
    },
    "language_info": {
      "name": "python"
    }
  },
  "cells": [
    {
      "cell_type": "markdown",
      "metadata": {
        "id": "view-in-github",
        "colab_type": "text"
      },
      "source": [
        "<a href=\"https://colab.research.google.com/github/felps2003/Aulas-de-Cyber-Seguranca/blob/main/ExerciciorEleicaoCyber.ipynb\" target=\"_parent\"><img src=\"https://colab.research.google.com/assets/colab-badge.svg\" alt=\"Open In Colab\"/></a>"
      ]
    },
    {
      "cell_type": "code",
      "execution_count": null,
      "metadata": {
        "colab": {
          "base_uri": "https://localhost:8080/"
        },
        "id": "A4Y1WhX7124H",
        "outputId": "fb736c30-685e-48f5-f8a0-6fac4f45c2ca"
      },
      "outputs": [
        {
          "output_type": "stream",
          "name": "stdout",
          "text": [
            "\u001b[?25l\r\u001b[K     |▍                               | 10 kB 12.3 MB/s eta 0:00:01\r\u001b[K     |▉                               | 20 kB 14.9 MB/s eta 0:00:01\r\u001b[K     |█▎                              | 30 kB 8.6 MB/s eta 0:00:01\r\u001b[K     |█▊                              | 40 kB 7.2 MB/s eta 0:00:01\r\u001b[K     |██▏                             | 51 kB 4.1 MB/s eta 0:00:01\r\u001b[K     |██▋                             | 61 kB 4.4 MB/s eta 0:00:01\r\u001b[K     |███                             | 71 kB 5.0 MB/s eta 0:00:01\r\u001b[K     |███▌                            | 81 kB 5.3 MB/s eta 0:00:01\r\u001b[K     |████                            | 92 kB 5.8 MB/s eta 0:00:01\r\u001b[K     |████▍                           | 102 kB 5.4 MB/s eta 0:00:01\r\u001b[K     |████▉                           | 112 kB 5.4 MB/s eta 0:00:01\r\u001b[K     |█████▎                          | 122 kB 5.4 MB/s eta 0:00:01\r\u001b[K     |█████▊                          | 133 kB 5.4 MB/s eta 0:00:01\r\u001b[K     |██████▏                         | 143 kB 5.4 MB/s eta 0:00:01\r\u001b[K     |██████▋                         | 153 kB 5.4 MB/s eta 0:00:01\r\u001b[K     |███████                         | 163 kB 5.4 MB/s eta 0:00:01\r\u001b[K     |███████▌                        | 174 kB 5.4 MB/s eta 0:00:01\r\u001b[K     |████████                        | 184 kB 5.4 MB/s eta 0:00:01\r\u001b[K     |████████▍                       | 194 kB 5.4 MB/s eta 0:00:01\r\u001b[K     |████████▉                       | 204 kB 5.4 MB/s eta 0:00:01\r\u001b[K     |█████████▎                      | 215 kB 5.4 MB/s eta 0:00:01\r\u001b[K     |█████████▊                      | 225 kB 5.4 MB/s eta 0:00:01\r\u001b[K     |██████████▏                     | 235 kB 5.4 MB/s eta 0:00:01\r\u001b[K     |██████████▌                     | 245 kB 5.4 MB/s eta 0:00:01\r\u001b[K     |███████████                     | 256 kB 5.4 MB/s eta 0:00:01\r\u001b[K     |███████████▍                    | 266 kB 5.4 MB/s eta 0:00:01\r\u001b[K     |███████████▉                    | 276 kB 5.4 MB/s eta 0:00:01\r\u001b[K     |████████████▎                   | 286 kB 5.4 MB/s eta 0:00:01\r\u001b[K     |████████████▊                   | 296 kB 5.4 MB/s eta 0:00:01\r\u001b[K     |█████████████▏                  | 307 kB 5.4 MB/s eta 0:00:01\r\u001b[K     |█████████████▋                  | 317 kB 5.4 MB/s eta 0:00:01\r\u001b[K     |██████████████                  | 327 kB 5.4 MB/s eta 0:00:01\r\u001b[K     |██████████████▌                 | 337 kB 5.4 MB/s eta 0:00:01\r\u001b[K     |███████████████                 | 348 kB 5.4 MB/s eta 0:00:01\r\u001b[K     |███████████████▍                | 358 kB 5.4 MB/s eta 0:00:01\r\u001b[K     |███████████████▉                | 368 kB 5.4 MB/s eta 0:00:01\r\u001b[K     |████████████████▎               | 378 kB 5.4 MB/s eta 0:00:01\r\u001b[K     |████████████████▊               | 389 kB 5.4 MB/s eta 0:00:01\r\u001b[K     |█████████████████▏              | 399 kB 5.4 MB/s eta 0:00:01\r\u001b[K     |█████████████████▋              | 409 kB 5.4 MB/s eta 0:00:01\r\u001b[K     |██████████████████              | 419 kB 5.4 MB/s eta 0:00:01\r\u001b[K     |██████████████████▌             | 430 kB 5.4 MB/s eta 0:00:01\r\u001b[K     |███████████████████             | 440 kB 5.4 MB/s eta 0:00:01\r\u001b[K     |███████████████████▍            | 450 kB 5.4 MB/s eta 0:00:01\r\u001b[K     |███████████████████▉            | 460 kB 5.4 MB/s eta 0:00:01\r\u001b[K     |████████████████████▎           | 471 kB 5.4 MB/s eta 0:00:01\r\u001b[K     |████████████████████▋           | 481 kB 5.4 MB/s eta 0:00:01\r\u001b[K     |█████████████████████           | 491 kB 5.4 MB/s eta 0:00:01\r\u001b[K     |█████████████████████▌          | 501 kB 5.4 MB/s eta 0:00:01\r\u001b[K     |██████████████████████          | 512 kB 5.4 MB/s eta 0:00:01\r\u001b[K     |██████████████████████▍         | 522 kB 5.4 MB/s eta 0:00:01\r\u001b[K     |██████████████████████▉         | 532 kB 5.4 MB/s eta 0:00:01\r\u001b[K     |███████████████████████▎        | 542 kB 5.4 MB/s eta 0:00:01\r\u001b[K     |███████████████████████▊        | 552 kB 5.4 MB/s eta 0:00:01\r\u001b[K     |████████████████████████▏       | 563 kB 5.4 MB/s eta 0:00:01\r\u001b[K     |████████████████████████▋       | 573 kB 5.4 MB/s eta 0:00:01\r\u001b[K     |█████████████████████████       | 583 kB 5.4 MB/s eta 0:00:01\r\u001b[K     |█████████████████████████▌      | 593 kB 5.4 MB/s eta 0:00:01\r\u001b[K     |██████████████████████████      | 604 kB 5.4 MB/s eta 0:00:01\r\u001b[K     |██████████████████████████▍     | 614 kB 5.4 MB/s eta 0:00:01\r\u001b[K     |██████████████████████████▉     | 624 kB 5.4 MB/s eta 0:00:01\r\u001b[K     |███████████████████████████▎    | 634 kB 5.4 MB/s eta 0:00:01\r\u001b[K     |███████████████████████████▊    | 645 kB 5.4 MB/s eta 0:00:01\r\u001b[K     |████████████████████████████▏   | 655 kB 5.4 MB/s eta 0:00:01\r\u001b[K     |████████████████████████████▋   | 665 kB 5.4 MB/s eta 0:00:01\r\u001b[K     |█████████████████████████████   | 675 kB 5.4 MB/s eta 0:00:01\r\u001b[K     |█████████████████████████████▌  | 686 kB 5.4 MB/s eta 0:00:01\r\u001b[K     |██████████████████████████████  | 696 kB 5.4 MB/s eta 0:00:01\r\u001b[K     |██████████████████████████████▍ | 706 kB 5.4 MB/s eta 0:00:01\r\u001b[K     |██████████████████████████████▊ | 716 kB 5.4 MB/s eta 0:00:01\r\u001b[K     |███████████████████████████████▏| 727 kB 5.4 MB/s eta 0:00:01\r\u001b[K     |███████████████████████████████▋| 737 kB 5.4 MB/s eta 0:00:01\r\u001b[K     |████████████████████████████████| 745 kB 5.4 MB/s \n",
            "\u001b[?25h  Building wheel for pyngrok (setup.py) ... \u001b[?25l\u001b[?25hdone\n"
          ]
        }
      ],
      "source": [
        "!pip install -q pyngrok"
      ]
    },
    {
      "cell_type": "code",
      "source": [
        "!pip install -q streamlit\n",
        "!pip install -q streamlit_ace"
      ],
      "metadata": {
        "colab": {
          "base_uri": "https://localhost:8080/"
        },
        "id": "hgR3ScQB16hQ",
        "outputId": "b4ff26f1-ce31-4943-80be-717d385af736"
      },
      "execution_count": null,
      "outputs": [
        {
          "output_type": "stream",
          "name": "stdout",
          "text": [
            "\u001b[K     |████████████████████████████████| 9.1 MB 5.3 MB/s \n",
            "\u001b[K     |████████████████████████████████| 78 kB 5.7 MB/s \n",
            "\u001b[K     |████████████████████████████████| 235 kB 58.3 MB/s \n",
            "\u001b[K     |████████████████████████████████| 181 kB 30.3 MB/s \n",
            "\u001b[K     |████████████████████████████████| 4.3 MB 36.3 MB/s \n",
            "\u001b[K     |████████████████████████████████| 164 kB 51.0 MB/s \n",
            "\u001b[K     |████████████████████████████████| 63 kB 1.5 MB/s \n",
            "\u001b[K     |████████████████████████████████| 132 kB 67.4 MB/s \n",
            "\u001b[K     |████████████████████████████████| 132 kB 57.2 MB/s \n",
            "\u001b[K     |████████████████████████████████| 793 kB 64.4 MB/s \n",
            "\u001b[K     |████████████████████████████████| 423 kB 47.3 MB/s \n",
            "\u001b[K     |████████████████████████████████| 381 kB 48.9 MB/s \n",
            "\u001b[K     |████████████████████████████████| 51 kB 6.3 MB/s \n",
            "\u001b[?25h  Building wheel for validators (setup.py) ... \u001b[?25l\u001b[?25hdone\n",
            "\u001b[31mERROR: pip's dependency resolver does not currently take into account all the packages that are installed. This behaviour is the source of the following dependency conflicts.\n",
            "nbclient 0.6.6 requires traitlets>=5.2.2, but you have traitlets 5.1.1 which is incompatible.\n",
            "jupyter-console 5.2.0 requires prompt-toolkit<2.0.0,>=1.0.0, but you have prompt-toolkit 3.0.30 which is incompatible.\n",
            "google-colab 1.0.0 requires ipykernel~=4.10, but you have ipykernel 6.15.1 which is incompatible.\n",
            "google-colab 1.0.0 requires ipython~=5.5.0, but you have ipython 7.34.0 which is incompatible.\n",
            "google-colab 1.0.0 requires tornado~=5.1.0, but you have tornado 6.2 which is incompatible.\u001b[0m\n",
            "\u001b[K     |████████████████████████████████| 3.6 MB 4.9 MB/s \n",
            "\u001b[?25h"
          ]
        }
      ]
    },
    {
      "cell_type": "code",
      "source": [
        ""
      ],
      "metadata": {
        "id": "3j9EaU1i19On"
      },
      "execution_count": null,
      "outputs": []
    },
    {
      "cell_type": "code",
      "source": [
        "!streamlit run app.py &>/dev/null&"
      ],
      "metadata": {
        "id": "xUNk8kEC2AwI"
      },
      "execution_count": null,
      "outputs": []
    },
    {
      "cell_type": "code",
      "source": [
        "!pip install fuzzywuzzy[speedup]"
      ],
      "metadata": {
        "colab": {
          "base_uri": "https://localhost:8080/"
        },
        "id": "jKt-JKwC2HVt",
        "outputId": "022cd7c7-df71-4d19-db9c-60a963c45352"
      },
      "execution_count": null,
      "outputs": [
        {
          "output_type": "stream",
          "name": "stdout",
          "text": [
            "Looking in indexes: https://pypi.org/simple, https://us-python.pkg.dev/colab-wheels/public/simple/\n",
            "Collecting fuzzywuzzy[speedup]\n",
            "  Downloading fuzzywuzzy-0.18.0-py2.py3-none-any.whl (18 kB)\n",
            "Collecting python-levenshtein>=0.12\n",
            "  Downloading python-Levenshtein-0.12.2.tar.gz (50 kB)\n",
            "\u001b[K     |████████████████████████████████| 50 kB 3.0 MB/s \n",
            "\u001b[?25hRequirement already satisfied: setuptools in /usr/local/lib/python3.7/dist-packages (from python-levenshtein>=0.12->fuzzywuzzy[speedup]) (57.4.0)\n",
            "Building wheels for collected packages: python-levenshtein\n",
            "  Building wheel for python-levenshtein (setup.py) ... \u001b[?25l\u001b[?25hdone\n",
            "  Created wheel for python-levenshtein: filename=python_Levenshtein-0.12.2-cp37-cp37m-linux_x86_64.whl size=149865 sha256=9aaef1252ee3445d1ee8e30dfba3a4282e3097260fd49f650672159dc990fdc6\n",
            "  Stored in directory: /root/.cache/pip/wheels/05/5f/ca/7c4367734892581bb5ff896f15027a932c551080b2abd3e00d\n",
            "Successfully built python-levenshtein\n",
            "Installing collected packages: python-levenshtein, fuzzywuzzy\n",
            "Successfully installed fuzzywuzzy-0.18.0 python-levenshtein-0.12.2\n"
          ]
        }
      ]
    },
    {
      "cell_type": "code",
      "source": [
        "%%writefile app.py\n",
        "import streamlit as st\n",
        "import requests as req\n",
        "import json\n",
        "from fuzzywuzzy import process\n",
        "from fuzzywuzzy import fuzz\n",
        "from pyngrok import ngrok\n",
        "\n",
        "def main():\n",
        "\n",
        "  html_temp = \"\"\"\n",
        "  <div style =\"background-color:red; padding:13px\">\n",
        "  <h1>Linha do tempo!</h1>\n",
        "  </div>\n",
        "  \"\"\"\n",
        "  st.markdown(html_temp, unsafe_allow_html = True)\n",
        "  item = st.text_input('Item')\n",
        "\n",
        "  def verificarNome(item):\n",
        "    res = req.get('https://felps2003.github.io/eleicao.json')\n",
        "    dict = res.json()['eleicao']\n",
        "    lista_fuzzy = process.extract(item, dict)\n",
        "    resultado = []\n",
        "    for sublista in lista_fuzzy:\n",
        "      if sublista[1] > 80:\n",
        "        resultado.append(sublista)\n",
        "    if len(resultado) >= 1:\n",
        "      st.success('Tome cuidado isso pode ser uma fake news')\n",
        "\n",
        "  if st.button('Verificar'):\n",
        "    verificarNome(item)\n",
        "\n",
        "if __name__=='__main__': \n",
        "  main()\n"
      ],
      "metadata": {
        "colab": {
          "base_uri": "https://localhost:8080/"
        },
        "id": "FiibZ7Fu2HRd",
        "outputId": "387a2273-930b-474e-dad7-6fb2d6b80571"
      },
      "execution_count": null,
      "outputs": [
        {
          "output_type": "stream",
          "name": "stdout",
          "text": [
            "Overwriting app.py\n"
          ]
        }
      ]
    },
    {
      "cell_type": "code",
      "source": [
        "!streamlit run app.py & npx localtunnel --port 8501"
      ],
      "metadata": {
        "colab": {
          "base_uri": "https://localhost:8080/"
        },
        "id": "rhu58T3p6k2i",
        "outputId": "4e4bb886-337d-43d1-e0c1-ecbf270541ea"
      },
      "execution_count": null,
      "outputs": [
        {
          "output_type": "stream",
          "name": "stdout",
          "text": [
            "2022-08-03 23:10:12.449 INFO    numexpr.utils: NumExpr defaulting to 2 threads.\n",
            "\u001b[K\u001b[?25hnpx: installed 22 in 3.278s\n",
            "\u001b[0m\n",
            "\u001b[34m\u001b[1m  You can now view your Streamlit app in your browser.\u001b[0m\n",
            "\u001b[0m\n",
            "\u001b[34m  Network URL: \u001b[0m\u001b[1mhttp://172.28.0.2:8501\u001b[0m\n",
            "\u001b[34m  External URL: \u001b[0m\u001b[1mhttp://34.148.214.153:8501\u001b[0m\n",
            "\u001b[0m\n",
            "your url is: https://short-flies-sink-34-148-214-153.loca.lt\n",
            "\u001b[34m  Stopping...\u001b[0m\n",
            "^C\n"
          ]
        }
      ]
    }
  ]
}